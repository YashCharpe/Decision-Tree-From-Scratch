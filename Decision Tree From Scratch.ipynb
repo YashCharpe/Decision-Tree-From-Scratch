{
 "cells": [
  {
   "cell_type": "markdown",
   "metadata": {},
   "source": [
    "# Task 1\n",
    "### Credit card fraud detection using Gini impurity without sklearn\n",
    "\n",
    "The dataset contains a set of credit card transactions. Each transactio has a variable called `isFradulent` that indicates whether the transaction is fraudulent or not.\n",
    "\n",
    "\n",
    "Dataset Link: https://www.kaggle.com/shubhamjoshi2130of/abstract-data-set-for-credit-card-fraud-detection\n"
   ]
  },
  {
   "cell_type": "markdown",
   "metadata": {},
   "source": [
    "## Data Preprocessing"
   ]
  },
  {
   "cell_type": "code",
   "execution_count": 3,
   "metadata": {},
   "outputs": [],
   "source": [
    "import numpy as np\n",
    "import pandas as pd\n",
    "from matplotlib import pyplot as plt\n",
    "import seaborn as sns"
   ]
  },
  {
   "cell_type": "code",
   "execution_count": 4,
   "metadata": {},
   "outputs": [],
   "source": [
    "df = pd.read_csv('creditcardcsvpresent.csv')"
   ]
  },
  {
   "cell_type": "code",
   "execution_count": 5,
   "metadata": {},
   "outputs": [
    {
     "data": {
      "text/html": [
       "<div>\n",
       "<style scoped>\n",
       "    .dataframe tbody tr th:only-of-type {\n",
       "        vertical-align: middle;\n",
       "    }\n",
       "\n",
       "    .dataframe tbody tr th {\n",
       "        vertical-align: top;\n",
       "    }\n",
       "\n",
       "    .dataframe thead th {\n",
       "        text-align: right;\n",
       "    }\n",
       "</style>\n",
       "<table border=\"1\" class=\"dataframe\">\n",
       "  <thead>\n",
       "    <tr style=\"text-align: right;\">\n",
       "      <th></th>\n",
       "      <th>Merchant_id</th>\n",
       "      <th>Transaction date</th>\n",
       "      <th>Average Amount/transaction/day</th>\n",
       "      <th>Transaction_amount</th>\n",
       "      <th>Is declined</th>\n",
       "      <th>Total Number of declines/day</th>\n",
       "      <th>isForeignTransaction</th>\n",
       "      <th>isHighRiskCountry</th>\n",
       "      <th>Daily_chargeback_avg_amt</th>\n",
       "      <th>6_month_avg_chbk_amt</th>\n",
       "      <th>6-month_chbk_freq</th>\n",
       "      <th>isFradulent</th>\n",
       "    </tr>\n",
       "  </thead>\n",
       "  <tbody>\n",
       "    <tr>\n",
       "      <th>0</th>\n",
       "      <td>3160040998</td>\n",
       "      <td>NaN</td>\n",
       "      <td>100.0</td>\n",
       "      <td>3000.0</td>\n",
       "      <td>N</td>\n",
       "      <td>5</td>\n",
       "      <td>Y</td>\n",
       "      <td>Y</td>\n",
       "      <td>0</td>\n",
       "      <td>0.0</td>\n",
       "      <td>0</td>\n",
       "      <td>Y</td>\n",
       "    </tr>\n",
       "    <tr>\n",
       "      <th>1</th>\n",
       "      <td>3160040998</td>\n",
       "      <td>NaN</td>\n",
       "      <td>100.0</td>\n",
       "      <td>4300.0</td>\n",
       "      <td>N</td>\n",
       "      <td>5</td>\n",
       "      <td>Y</td>\n",
       "      <td>Y</td>\n",
       "      <td>0</td>\n",
       "      <td>0.0</td>\n",
       "      <td>0</td>\n",
       "      <td>Y</td>\n",
       "    </tr>\n",
       "    <tr>\n",
       "      <th>2</th>\n",
       "      <td>3160041896</td>\n",
       "      <td>NaN</td>\n",
       "      <td>185.5</td>\n",
       "      <td>4823.0</td>\n",
       "      <td>Y</td>\n",
       "      <td>5</td>\n",
       "      <td>N</td>\n",
       "      <td>N</td>\n",
       "      <td>0</td>\n",
       "      <td>0.0</td>\n",
       "      <td>0</td>\n",
       "      <td>Y</td>\n",
       "    </tr>\n",
       "    <tr>\n",
       "      <th>3</th>\n",
       "      <td>3160141996</td>\n",
       "      <td>NaN</td>\n",
       "      <td>185.5</td>\n",
       "      <td>5008.5</td>\n",
       "      <td>Y</td>\n",
       "      <td>8</td>\n",
       "      <td>N</td>\n",
       "      <td>N</td>\n",
       "      <td>0</td>\n",
       "      <td>0.0</td>\n",
       "      <td>0</td>\n",
       "      <td>Y</td>\n",
       "    </tr>\n",
       "    <tr>\n",
       "      <th>4</th>\n",
       "      <td>3160241992</td>\n",
       "      <td>NaN</td>\n",
       "      <td>500.0</td>\n",
       "      <td>26000.0</td>\n",
       "      <td>N</td>\n",
       "      <td>0</td>\n",
       "      <td>Y</td>\n",
       "      <td>Y</td>\n",
       "      <td>800</td>\n",
       "      <td>677.2</td>\n",
       "      <td>6</td>\n",
       "      <td>Y</td>\n",
       "    </tr>\n",
       "  </tbody>\n",
       "</table>\n",
       "</div>"
      ],
      "text/plain": [
       "   Merchant_id  Transaction date  Average Amount/transaction/day  \\\n",
       "0   3160040998               NaN                           100.0   \n",
       "1   3160040998               NaN                           100.0   \n",
       "2   3160041896               NaN                           185.5   \n",
       "3   3160141996               NaN                           185.5   \n",
       "4   3160241992               NaN                           500.0   \n",
       "\n",
       "   Transaction_amount Is declined  Total Number of declines/day  \\\n",
       "0              3000.0           N                             5   \n",
       "1              4300.0           N                             5   \n",
       "2              4823.0           Y                             5   \n",
       "3              5008.5           Y                             8   \n",
       "4             26000.0           N                             0   \n",
       "\n",
       "  isForeignTransaction isHighRiskCountry  Daily_chargeback_avg_amt  \\\n",
       "0                    Y                 Y                         0   \n",
       "1                    Y                 Y                         0   \n",
       "2                    N                 N                         0   \n",
       "3                    N                 N                         0   \n",
       "4                    Y                 Y                       800   \n",
       "\n",
       "   6_month_avg_chbk_amt  6-month_chbk_freq isFradulent  \n",
       "0                   0.0                  0           Y  \n",
       "1                   0.0                  0           Y  \n",
       "2                   0.0                  0           Y  \n",
       "3                   0.0                  0           Y  \n",
       "4                 677.2                  6           Y  "
      ]
     },
     "execution_count": 5,
     "metadata": {},
     "output_type": "execute_result"
    }
   ],
   "source": [
    "df.head()"
   ]
  },
  {
   "cell_type": "code",
   "execution_count": 6,
   "metadata": {},
   "outputs": [],
   "source": [
    "# Remove unwanted columns\n",
    "df.drop(['Merchant_id', 'Transaction date'], axis=1, inplace=True)"
   ]
  },
  {
   "cell_type": "code",
   "execution_count": 7,
   "metadata": {},
   "outputs": [],
   "source": [
    "# id_declined, foreign, high_risk\n",
    "from sklearn.preprocessing import LabelEncoder\n",
    "encoder = LabelEncoder()"
   ]
  },
  {
   "cell_type": "code",
   "execution_count": 8,
   "metadata": {},
   "outputs": [],
   "source": [
    "df['Is declined'] = encoder.fit_transform(df['Is declined'])\n",
    "df['isForeignTransaction'] = encoder.fit_transform(df['isForeignTransaction'])\n",
    "df['isHighRiskCountry'] = encoder.fit_transform(df['isHighRiskCountry'])"
   ]
  },
  {
   "cell_type": "code",
   "execution_count": 9,
   "metadata": {},
   "outputs": [
    {
     "data": {
      "text/plain": [
       "<AxesSubplot:>"
      ]
     },
     "execution_count": 9,
     "metadata": {},
     "output_type": "execute_result"
    },
    {
     "data": {
      "image/png": "[encoded data removed]",
      "text/plain": [
       "<Figure size 432x288 with 2 Axes>"
      ]
     },
     "metadata": {
      "needs_background": "light"
     },
     "output_type": "display_data"
    }
   ],
   "source": [
    "sns.heatmap(df.corr(), annot=True)"
   ]
  },
  {
   "cell_type": "code",
   "execution_count": 10,
   "metadata": {},
   "outputs": [],
   "source": [
    "# Separate out the features and the labels\n",
    "X = df.drop(['isFradulent'], axis=1)\n",
    "Y = df['isFradulent']"
   ]
  },
  {
   "cell_type": "code",
   "execution_count": 11,
   "metadata": {},
   "outputs": [],
   "source": [
    "# Split the dataset into training and testing\n",
    "from sklearn.model_selection import train_test_split\n",
    "x_train, x_test, y_train, y_test = train_test_split(X, Y, test_size=.25)"
   ]
  },
  {
   "cell_type": "code",
   "execution_count": 12,
   "metadata": {},
   "outputs": [
    {
     "name": "stdout",
     "output_type": "stream",
     "text": [
      "Training data count\n",
      "N    0.852559\n",
      "Y    0.147441\n",
      "Name: isFradulent, dtype: float64\n",
      "\n",
      "Testing data count\n",
      "N    0.859558\n",
      "Y    0.140442\n",
      "Name: isFradulent, dtype: float64\n"
     ]
    }
   ],
   "source": [
    "print('Training data count\\n', y_train.value_counts(normalize=True), sep='')\n",
    "print('\\nTesting data count\\n', y_test.value_counts(normalize=True), sep='')"
   ]
  },
  {
   "cell_type": "code",
   "execution_count": 13,
   "metadata": {},
   "outputs": [
    {
     "data": {
      "text/plain": [
       "((2306, 9), (769, 9))"
      ]
     },
     "execution_count": 13,
     "metadata": {},
     "output_type": "execute_result"
    }
   ],
   "source": [
    "x_train.shape, x_test.shape"
   ]
  },
  {
   "cell_type": "markdown",
   "metadata": {},
   "source": [
    "## Model Building"
   ]
  },
  {
   "cell_type": "code",
   "execution_count": 14,
   "metadata": {},
   "outputs": [],
   "source": [
    "target_variable = 'isFradulent'"
   ]
  },
  {
   "cell_type": "code",
   "execution_count": 15,
   "metadata": {},
   "outputs": [],
   "source": [
    "class Node:\n",
    "  '''A tree node to store the prediction data'''\n",
    "  def __init__(self, feature_index=None, feature=None, threshhold=None, left=None, right=None, info_gain=None, value=None):\n",
    "    self.feature_index = feature_index\n",
    "    self.feature = feature\n",
    "    self.threshhold = threshhold\n",
    "    self.left = left\n",
    "    self.right = right\n",
    "    self.info_gain = info_gain\n",
    "    self.value = value"
   ]
  },
  {
   "cell_type": "code",
   "execution_count": 16,
   "metadata": {},
   "outputs": [],
   "source": [
    "class Classifier:\n",
    "    '''A classifier to train and predict'''\n",
    "    def __init__(self, max_depth=3):\n",
    "        self.root = None\n",
    "        self.max_depth = max_depth\n",
    "\n",
    "    def build_tree(self, dataset, current_depth = 0):\n",
    "        _, y = dataset.drop([target_variable], axis=1), dataset[target_variable]\n",
    "        num_samples, num_features = _.shape\n",
    "        features = _.columns\n",
    "        \n",
    "        if num_samples >= 2 and current_depth <= self.max_depth:\n",
    "            best_split = self.get_best_split(dataset, num_features, features)\n",
    "            if best_split['info_gain'] > 0:\n",
    "                left_subtree = self.build_tree(best_split['dataset_left'], current_depth + 1)\n",
    "                right_subtree = self.build_tree(best_split['dataset_right'], current_depth + 1)\n",
    "                return Node(\n",
    "                    feature_index = best_split['feature_index'],\n",
    "                    feature= best_split['feature'],\n",
    "                    threshhold= best_split['threshhold'],\n",
    "                    left= left_subtree,\n",
    "                    right= right_subtree,\n",
    "                    info_gain= best_split['info_gain']\n",
    "                )\n",
    "\n",
    "        leaf_value = self.get_leaf_value(y)\n",
    "        return Node(value=leaf_value)\n",
    "    \n",
    "    def get_best_split(self, dataset, num_features, features):\n",
    "        best_split = {}\n",
    "        max_info_gain = None\n",
    "        for feature_index in range(num_features):\n",
    "            values = dataset[features[feature_index]]\n",
    "            unique_values = values.unique()\n",
    "            for threshhold in unique_values:\n",
    "                dataset_left, dataset_right = self.split(dataset, features[feature_index], threshhold)\n",
    "                if len(dataset_left) > 0 and len(dataset_right) > 0:\n",
    "                    y, left_y, right_y = dataset[target_variable], dataset_left[target_variable], dataset_right[target_variable]\n",
    "                    info_gain = self.get_info_gain(y, left_y, right_y)\n",
    "                    \n",
    "                    if max_info_gain is None or info_gain > max_info_gain:\n",
    "                        max_info_gain = info_gain\n",
    "                        best_split['feature_index'] = feature_index\n",
    "                        best_split['threshhold'] = threshhold\n",
    "                        best_split['dataset_left'] = dataset_left\n",
    "                        best_split['dataset_right'] = dataset_right\n",
    "                        best_split['info_gain'] = info_gain\n",
    "                        best_split['feature'] = features[feature_index]\n",
    "        return best_split\n",
    "\n",
    "    def split(self, dataset, feature, threshhold):\n",
    "        dataset_left = dataset[dataset[feature] <= threshhold]\n",
    "        dataset_right = dataset[dataset[feature] > threshhold]\n",
    "        return dataset_left, dataset_right\n",
    "\n",
    "    def get_info_gain(self, parent, left, right):\n",
    "        weight_l = len(left) / len(parent)\n",
    "        weight_r = len(right) / len(parent)\n",
    "        return self.gini(parent) - weight_l * self.gini(left) - weight_r * self.gini(right)\n",
    "\n",
    "    def gini(self, y):\n",
    "        labels = y.unique()\n",
    "        return 1 - np.sum([(len(y[y == label]) / len(y))**2 for label in labels])\n",
    "\n",
    "    def get_leaf_value(self, y):\n",
    "        return y.value_counts().idxmax()\n",
    "    \n",
    "    def print_tree(self, root=None, indent=\"    \"):\n",
    "        if not root: root = self.root\n",
    "        if root.value: print(root.value)\n",
    "\n",
    "        else:\n",
    "            print(f'X_{root.feature} <= {root.threshhold} ? {root.info_gain}')\n",
    "            print(indent + 'True ->', end=\"\")\n",
    "            self.print_tree(root.left, indent*2)\n",
    "            print(indent + 'False ->', end=\"\")\n",
    "            self.print_tree(root.right, indent*2)\n",
    "\n",
    "    def fit(self, dataset):\n",
    "        self.root = self.build_tree(dataset)\n",
    "\n",
    "    def predict(self, X):\n",
    "        return [self.make_prediction(x, self.root) for x in X.values]\n",
    "    \n",
    "    def make_prediction(self, x, root):\n",
    "        if root.value: return root.value\n",
    "        if x[root.feature_index] <= root.threshhold: return self.make_prediction(x, root.left)\n",
    "        return self.make_prediction(x, root.right)\n"
   ]
  },
  {
   "cell_type": "markdown",
   "metadata": {},
   "source": [
    "## Training"
   ]
  },
  {
   "cell_type": "code",
   "execution_count": 17,
   "metadata": {},
   "outputs": [],
   "source": [
    "model = Classifier(3)"
   ]
  },
  {
   "cell_type": "code",
   "execution_count": 18,
   "metadata": {},
   "outputs": [],
   "source": [
    "# Concat training x and y, as to feed to the model\n",
    "data = pd.concat([x_train, y_train], axis=1)"
   ]
  },
  {
   "cell_type": "code",
   "execution_count": 19,
   "metadata": {},
   "outputs": [],
   "source": [
    "model.fit(data)"
   ]
  },
  {
   "cell_type": "code",
   "execution_count": null,
   "metadata": {},
   "outputs": [],
   "source": []
  },
  {
   "cell_type": "code",
   "execution_count": 20,
   "metadata": {},
   "outputs": [],
   "source": [
    "from sklearn.metrics import accuracy_score, classification_report, confusion_matrix"
   ]
  },
  {
   "cell_type": "code",
   "execution_count": 21,
   "metadata": {},
   "outputs": [],
   "source": [
    "y_train_pred = model.predict(x_train)\n",
    "y_test_pred = model.predict(x_test)"
   ]
  },
  {
   "cell_type": "code",
   "execution_count": 22,
   "metadata": {},
   "outputs": [
    {
     "name": "stdout",
     "output_type": "stream",
     "text": [
      "Accuracies:\n",
      "Training: 97.9618%\n",
      "Testing: 97.5293%\n",
      "\n"
     ]
    }
   ],
   "source": [
    "print(\n",
    "  f'Accuracies:\\n'\n",
    "  f'Training: {round(accuracy_score(y_train, y_train_pred)*100, 4)}%\\n'\n",
    "  f'Testing: {round(accuracy_score(y_test, y_test_pred)*100, 4)}%\\n'\n",
    ")"
   ]
  },
  {
   "cell_type": "code",
   "execution_count": 23,
   "metadata": {},
   "outputs": [
    {
     "name": "stdout",
     "output_type": "stream",
     "text": [
      "Classification Report:\n",
      "Training dataset\n",
      "              precision    recall  f1-score   support\n",
      "\n",
      "           N       0.98      1.00      0.99      1966\n",
      "           Y       0.99      0.87      0.93       340\n",
      "\n",
      "    accuracy                           0.98      2306\n",
      "   macro avg       0.98      0.94      0.96      2306\n",
      "weighted avg       0.98      0.98      0.98      2306\n",
      "\n",
      "\n",
      "Testing dataset\n",
      "              precision    recall  f1-score   support\n",
      "\n",
      "           N       0.98      1.00      0.99       661\n",
      "           Y       0.97      0.85      0.91       108\n",
      "\n",
      "    accuracy                           0.98       769\n",
      "   macro avg       0.97      0.92      0.95       769\n",
      "weighted avg       0.98      0.98      0.97       769\n",
      "\n",
      "\n"
     ]
    }
   ],
   "source": [
    "print(\n",
    "  f'Classification Report:\\n'\n",
    "  'Training dataset\\n'\n",
    "  f'{classification_report(y_train, y_train_pred)}\\n'\n",
    "  '\\nTesting dataset\\n'\n",
    "  f'{classification_report(y_test, y_test_pred)}\\n'\n",
    ")"
   ]
  },
  {
   "cell_type": "code",
   "execution_count": 24,
   "metadata": {},
   "outputs": [
    {
     "data": {
      "image/png": "[encoded data removed]",
      "text/plain": [
       "<Figure size 1440x720 with 4 Axes>"
      ]
     },
     "metadata": {
      "needs_background": "light"
     },
     "output_type": "display_data"
    }
   ],
   "source": [
    "plt.subplots(1, 2, figsize=(20,10))\n",
    "plt.subplot(1, 2, 1)\n",
    "sns.heatmap(confusion_matrix(y_train, y_train_pred), annot=True, fmt='d')\n",
    "plt.title('Training Dataset', fontsize=20)\n",
    "\n",
    "plt.subplot(1, 2, 2)\n",
    "sns.heatmap(confusion_matrix(y_test, y_test_pred), annot=True, fmt='d')\n",
    "_ = plt.title('Testing Dataset', fontsize=20)"
   ]
  },
  {
   "cell_type": "code",
   "execution_count": null,
   "metadata": {},
   "outputs": [],
   "source": []
  }
 ],
 "metadata": {
  "kernelspec": {
   "display_name": "Python 3",
   "language": "python",
   "name": "python3"
  },
  "language_info": {
   "codemirror_mode": {
    "name": "ipython",
    "version": 3
   },
   "file_extension": ".py",
   "mimetype": "text/x-python",
   "name": "python",
   "nbconvert_exporter": "python",
   "pygments_lexer": "ipython3",
   "version": "3.8.8"
  }
 },
 "nbformat": 4,
 "nbformat_minor": 4
}
